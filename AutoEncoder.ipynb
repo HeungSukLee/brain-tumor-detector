{
 "cells": [
  {
   "cell_type": "code",
   "execution_count": 1,
   "id": "changed-divide",
   "metadata": {},
   "outputs": [],
   "source": [
    "import tensorflow as tf"
   ]
  },
  {
   "cell_type": "code",
   "execution_count": 2,
   "id": "occupied-stretch",
   "metadata": {},
   "outputs": [
    {
     "name": "stdout",
     "output_type": "stream",
     "text": [
      "WARNING:tensorflow:From <ipython-input-2-17bb7203622b>:1: is_gpu_available (from tensorflow.python.framework.test_util) is deprecated and will be removed in a future version.\n",
      "Instructions for updating:\n",
      "Use `tf.config.list_physical_devices('GPU')` instead.\n"
     ]
    },
    {
     "data": {
      "text/plain": [
       "True"
      ]
     },
     "execution_count": 2,
     "metadata": {},
     "output_type": "execute_result"
    }
   ],
   "source": [
    "tf.test.is_gpu_available()"
   ]
  },
  {
   "cell_type": "code",
   "execution_count": 3,
   "id": "dress-double",
   "metadata": {},
   "outputs": [],
   "source": [
    "import os\n",
    "\n",
    "import numpy as np\n",
    "import matplotlib.pyplot as plt\n",
    "\n",
    "from tensorflow import keras\n",
    "from tensorflow.keras import layers, preprocessing, optimizers\n",
    "\n",
    "# You can write up to 20GB to the current directory (/kaggle/working/) that gets preserved as output when you create a version using \"Save & Run All\" \n",
    "# You can also write temporary files to /kaggle/temp/, but they won't be saved outside of the current session"
   ]
  },
  {
   "cell_type": "code",
   "execution_count": 6,
   "id": "curious-confirmation",
   "metadata": {},
   "outputs": [
    {
     "name": "stdout",
     "output_type": "stream",
     "text": [
      "loading Training no_tumor\n",
      "loading Testing no_tumor\n",
      "done loading!\n",
      "\n",
      "shapes:\n",
      "(395, 64, 64, 1)\n",
      "(105, 64, 64, 1)\n"
     ]
    }
   ],
   "source": [
    "main_dir = \"./dataset\"\n",
    "# classification_dirs = [(\"no_tumor\",), (\"meningioma_tumor\",), (\"glioma_tumor\",), (\"pituitary_tumor\",) ]\n",
    "classification_dirs = [(\"no_tumor\",) ]\n",
    "\n",
    "resolution = 64\n",
    "\n",
    "def load_images(root_dir_name):\n",
    "    x = []\n",
    "    y = []\n",
    "    \n",
    "    for label, sub_dir_names in enumerate(classification_dirs):\n",
    "        for sub_dir_name in sub_dir_names:\n",
    "            print(f\"loading {root_dir_name} {sub_dir_name}\")\n",
    "            sub_dir_path = os.path.join(main_dir, root_dir_name, sub_dir_name)\n",
    "            for image_name in os.listdir(sub_dir_path):\n",
    "                image_path = os.path.join(sub_dir_path, image_name)\n",
    "                image = preprocessing.image.load_img(image_path, color_mode=\"grayscale\", target_size=(resolution, resolution))\n",
    "                x.append(preprocessing.image.img_to_array(image))\n",
    "                y.append(label)\n",
    "    \n",
    "    x = np.array(x) / 255.0\n",
    "    y = np.array(y)\n",
    "    \n",
    "    return x, y\n",
    "\n",
    "x_train, y_train = load_images(\"Training\")\n",
    "x_test, y_test = load_images(\"Testing\")\n",
    "\n",
    "print(\"done loading!\")\n",
    "print(\"\\nshapes:\")\n",
    "print(x_train.shape)\n",
    "print(x_test.shape)"
   ]
  },
  {
   "cell_type": "code",
   "execution_count": 8,
   "id": "understood-holocaust",
   "metadata": {},
   "outputs": [],
   "source": [
    "def make_model():\n",
    "    # ENCODER\n",
    "    input_img = Input(shape=(64, 64, 1) )\n",
    "    x = Conv2D(48, (3, 3), activation='relu', padding='same')(input_img)\n",
    "    x = MaxPooling2D((2, 2), padding='same')(x)\n",
    "    x = Conv2D(96, (3, 3), activation='relu', padding='same')(x)\n",
    "    x = MaxPooling2D((2, 2), padding='same')(x)\n",
    "    x = Conv2D(192, (3, 3), activation='relu', padding='same')(x)\n",
    "    x = MaxPooling2D((2, 2), padding='same')(x)\n",
    "    encoded = Conv2D(32, (1, 1), activation='relu', padding='same')(x)\n",
    "\n",
    "    # LATENT SPACE\n",
    "    latentSize = (8,8,32)\n",
    "\n",
    "    # DECODER\n",
    "    direct_input = Input(shape=latentSize)\n",
    "    x = Conv2D(192, (1, 1), activation='relu', padding='same')(direct_input)\n",
    "    x = UpSampling2D((2, 2))(x)\n",
    "    x = Conv2D(192, (3, 3), activation='relu', padding='same')(x)\n",
    "    x = UpSampling2D((2, 2))(x)\n",
    "    x = Conv2D(96, (3, 3), activation='relu', padding='same')(x)\n",
    "    x = UpSampling2D((2, 2))(x)\n",
    "    x = Conv2D(48, (3, 3), activation='relu', padding='same')(x)\n",
    "    decoded = Conv2D(1, (3, 3), activation='sigmoid', padding='same')(x)\n",
    "\n",
    "    # COMPILE\n",
    "    encoder = Model(input_img, encoded)\n",
    "    decoder = Model(direct_input, decoded)\n",
    "    autoencoder = Model(input_img, decoder(encoded))\n",
    "\n",
    "    autoencoder.compile(optimizer='Adam', loss='binary_crossentropy')\n",
    "    return autoencoder"
   ]
  },
  {
   "cell_type": "code",
   "execution_count": null,
   "id": "bulgarian-honey",
   "metadata": {},
   "outputs": [],
   "source": [
    "model = make_model()\n",
    "\n",
    "history = model.fit(x_train, x_train, batch_size=4, shuffle=True, epochs=50\n",
    "                    , validation_data=(x_test, x_test))"
   ]
  }
 ],
 "metadata": {
  "kernelspec": {
   "display_name": "Python 3",
   "language": "python",
   "name": "python3"
  },
  "language_info": {
   "codemirror_mode": {
    "name": "ipython",
    "version": 3
   },
   "file_extension": ".py",
   "mimetype": "text/x-python",
   "name": "python",
   "nbconvert_exporter": "python",
   "pygments_lexer": "ipython3",
   "version": "3.7.10"
  }
 },
 "nbformat": 4,
 "nbformat_minor": 5
}
