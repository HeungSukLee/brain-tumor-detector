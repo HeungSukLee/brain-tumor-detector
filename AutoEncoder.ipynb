{
 "cells": [
  {
   "cell_type": "code",
   "execution_count": 1,
   "id": "changed-divide",
   "metadata": {},
   "outputs": [],
   "source": [
    "import tensorflow as tf"
   ]
  },
  {
   "cell_type": "code",
   "execution_count": 2,
   "id": "occupied-stretch",
   "metadata": {},
   "outputs": [
    {
     "name": "stdout",
     "output_type": "stream",
     "text": [
      "WARNING:tensorflow:From <ipython-input-2-17bb7203622b>:1: is_gpu_available (from tensorflow.python.framework.test_util) is deprecated and will be removed in a future version.\n",
      "Instructions for updating:\n",
      "Use `tf.config.list_physical_devices('GPU')` instead.\n"
     ]
    },
    {
     "data": {
      "text/plain": [
       "True"
      ]
     },
     "execution_count": 2,
     "metadata": {},
     "output_type": "execute_result"
    }
   ],
   "source": [
    "tf.test.is_gpu_available()"
   ]
  },
  {
   "cell_type": "code",
   "execution_count": 11,
   "id": "dress-double",
   "metadata": {},
   "outputs": [],
   "source": [
    "import os\n",
    "\n",
    "import numpy as np\n",
    "import matplotlib.pyplot as plt\n",
    "\n",
    "from tensorflow import keras\n",
    "from tensorflow.keras import layers, preprocessing, optimizers, Model\n",
    "\n",
    "# You can write up to 20GB to the current directory (/kaggle/working/) that gets preserved as output when you create a version using \"Save & Run All\" \n",
    "# You can also write temporary files to /kaggle/temp/, but they won't be saved outside of the current session"
   ]
  },
  {
   "cell_type": "code",
   "execution_count": 4,
   "id": "curious-confirmation",
   "metadata": {},
   "outputs": [
    {
     "name": "stdout",
     "output_type": "stream",
     "text": [
      "loading Training no_tumor\n",
      "loading Testing no_tumor\n",
      "done loading!\n",
      "\n",
      "shapes:\n",
      "(395, 64, 64, 1)\n",
      "(105, 64, 64, 1)\n"
     ]
    }
   ],
   "source": [
    "main_dir = \"./dataset\"\n",
    "# classification_dirs = [(\"no_tumor\",), (\"meningioma_tumor\",), (\"glioma_tumor\",), (\"pituitary_tumor\",) ]\n",
    "classification_dirs = [(\"no_tumor\",) ]\n",
    "\n",
    "resolution = 64\n",
    "\n",
    "def load_images(root_dir_name):\n",
    "    x = []\n",
    "    y = []\n",
    "    \n",
    "    for label, sub_dir_names in enumerate(classification_dirs):\n",
    "        for sub_dir_name in sub_dir_names:\n",
    "            print(f\"loading {root_dir_name} {sub_dir_name}\")\n",
    "            sub_dir_path = os.path.join(main_dir, root_dir_name, sub_dir_name)\n",
    "            for image_name in os.listdir(sub_dir_path):\n",
    "                image_path = os.path.join(sub_dir_path, image_name)\n",
    "                image = preprocessing.image.load_img(image_path, color_mode=\"grayscale\", target_size=(resolution, resolution))\n",
    "                x.append(preprocessing.image.img_to_array(image))\n",
    "                y.append(label)\n",
    "    \n",
    "    x = np.array(x) / 255.0\n",
    "    y = np.array(y)\n",
    "    \n",
    "    return x, y\n",
    "\n",
    "x_train, y_train = load_images(\"Training\")\n",
    "x_test, y_test = load_images(\"Testing\")\n",
    "\n",
    "print(\"done loading!\")\n",
    "print(\"\\nshapes:\")\n",
    "print(x_train.shape)\n",
    "print(x_test.shape)"
   ]
  },
  {
   "cell_type": "code",
   "execution_count": 45,
   "id": "understood-holocaust",
   "metadata": {},
   "outputs": [],
   "source": [
    "from tensorflow.keras.layers import Input, Conv2D, MaxPooling2D, UpSampling2D, Dropout\n",
    "\n",
    "def make_model():\n",
    "    # ENCODER\n",
    "    input_img = layers.Input(shape=(64, 64, 1) )\n",
    "    x = layers.Conv2D(256, (3, 3), activation='relu', padding='same')(input_img) # 64 x 64 x \n",
    "    x = Dropout(0.5)(x)\n",
    "    x = MaxPooling2D((2, 2), padding='same')(x) # 32 32 48\n",
    "    x = Conv2D(512, (3, 3), activation='relu', padding='same')(x) #32 32 96\n",
    "    x = Dropout(0.5)(x)\n",
    "    x = MaxPooling2D((2, 2), padding='same')(x) #16 16 96\n",
    "    x = Conv2D(1024, (3, 3), activation='relu', padding='same')(x) #16 16 192\n",
    "    x = Dropout(0.5)(x)\n",
    "    x = MaxPooling2D((2, 2), padding='same')(x) #8 8 192\n",
    "    encoded = Conv2D(1024, (1, 1), activation='relu', padding='same')(x) #8 8 32\n",
    "    x = Dropout(0.5)(x)\n",
    "\n",
    "    # LATENT SPACE\n",
    "    latentSize = (8,8,1024)\n",
    "\n",
    "    # DECODER\n",
    "    direct_input = Input(shape=latentSize)\n",
    "    x = Conv2D(1024, (1, 1), activation='relu', padding='same')(direct_input)# 8 8 192\n",
    "    x = Dropout(0.5)(x)\n",
    "    x = UpSampling2D((2, 2))(x)# 16 16 192\n",
    "    x = Conv2D(1024, (3, 3), activation='relu', padding='same')(x) #16 16 192\n",
    "    x = Dropout(0.5)(x)\n",
    "    x = UpSampling2D((2, 2))(x) #32 32 192\n",
    "    x = Conv2D(512, (3, 3), activation='relu', padding='same')(x) #32 32 96\n",
    "    x = Dropout(0.5)(x)\n",
    "    x = UpSampling2D((2, 2))(x) #64 64 96\n",
    "    x = Conv2D(256, (3, 3), activation='relu', padding='same')(x) #64 64 48\n",
    "    x = Dropout(0.5)(x)\n",
    "    decoded = Conv2D(1, (3, 3), activation='linear', padding='same')(x) #64 64 1\n",
    "\n",
    "    # COMPILE\n",
    "    encoder = Model(input_img, encoded)\n",
    "    decoder = Model(direct_input, decoded)\n",
    "    autoencoder = Model(input_img, decoder(encoded))\n",
    "\n",
    "    autoencoder.compile(optimizer='Adam', loss='mse')\n",
    "    return autoencoder"
   ]
  },
  {
   "cell_type": "code",
   "execution_count": 46,
   "id": "8cfe5e30",
   "metadata": {},
   "outputs": [
    {
     "name": "stdout",
     "output_type": "stream",
     "text": [
      "Model: \"model_17\"\n",
      "_________________________________________________________________\n",
      "Layer (type)                 Output Shape              Param #   \n",
      "=================================================================\n",
      "input_14 (InputLayer)        [(None, 64, 64, 1)]       0         \n",
      "_________________________________________________________________\n",
      "conv2d_55 (Conv2D)           (None, 64, 64, 256)       2560      \n",
      "_________________________________________________________________\n",
      "dropout (Dropout)            (None, 64, 64, 256)       0         \n",
      "_________________________________________________________________\n",
      "max_pooling2d_18 (MaxPooling (None, 32, 32, 256)       0         \n",
      "_________________________________________________________________\n",
      "conv2d_56 (Conv2D)           (None, 32, 32, 512)       1180160   \n",
      "_________________________________________________________________\n",
      "dropout_1 (Dropout)          (None, 32, 32, 512)       0         \n",
      "_________________________________________________________________\n",
      "max_pooling2d_19 (MaxPooling (None, 16, 16, 512)       0         \n",
      "_________________________________________________________________\n",
      "conv2d_57 (Conv2D)           (None, 16, 16, 1024)      4719616   \n",
      "_________________________________________________________________\n",
      "dropout_2 (Dropout)          (None, 16, 16, 1024)      0         \n",
      "_________________________________________________________________\n",
      "max_pooling2d_20 (MaxPooling (None, 8, 8, 1024)        0         \n",
      "_________________________________________________________________\n",
      "conv2d_58 (Conv2D)           (None, 8, 8, 1024)        1049600   \n",
      "_________________________________________________________________\n",
      "model_16 (Functional)        (None, 64, 64, 1)         16389121  \n",
      "=================================================================\n",
      "Total params: 23,341,057\n",
      "Trainable params: 23,341,057\n",
      "Non-trainable params: 0\n",
      "_________________________________________________________________\n"
     ]
    }
   ],
   "source": [
    "model = make_model()\n",
    "\n",
    "model.summary()"
   ]
  },
  {
   "cell_type": "code",
   "execution_count": 47,
   "id": "bulgarian-honey",
   "metadata": {},
   "outputs": [
    {
     "name": "stdout",
     "output_type": "stream",
     "text": [
      "Epoch 1/50\n",
      "99/99 [==============================] - 20s 195ms/step - loss: 48.1308 - val_loss: 0.0819\n",
      "Epoch 2/50\n",
      "99/99 [==============================] - 20s 198ms/step - loss: 0.0250 - val_loss: 0.0544\n",
      "Epoch 3/50\n",
      "99/99 [==============================] - 20s 200ms/step - loss: 0.0227 - val_loss: 0.0519\n",
      "Epoch 4/50\n",
      "99/99 [==============================] - 20s 203ms/step - loss: 0.0219 - val_loss: 0.0568\n",
      "Epoch 5/50\n",
      "99/99 [==============================] - 19s 196ms/step - loss: 0.0213 - val_loss: 0.0539\n",
      "Epoch 6/50\n",
      "99/99 [==============================] - 20s 201ms/step - loss: 0.0203 - val_loss: 0.0498\n",
      "Epoch 7/50\n",
      "99/99 [==============================] - 20s 205ms/step - loss: 0.0201 - val_loss: 0.0468\n",
      "Epoch 8/50\n",
      "99/99 [==============================] - 20s 199ms/step - loss: 0.0199 - val_loss: 0.0506\n",
      "Epoch 9/50\n",
      "99/99 [==============================] - 20s 203ms/step - loss: 0.0206 - val_loss: 0.0403\n",
      "Epoch 10/50\n",
      "99/99 [==============================] - 20s 207ms/step - loss: 0.0194 - val_loss: 0.0475\n",
      "Epoch 11/50\n",
      "99/99 [==============================] - 19s 192ms/step - loss: 0.0189 - val_loss: 0.0490\n",
      "Epoch 12/50\n",
      "99/99 [==============================] - 19s 192ms/step - loss: 0.0193 - val_loss: 0.0479\n",
      "Epoch 13/50\n",
      "99/99 [==============================] - 19s 192ms/step - loss: 0.0188 - val_loss: 0.0441\n",
      "Epoch 14/50\n",
      "99/99 [==============================] - 19s 192ms/step - loss: 0.0185 - val_loss: 0.0438\n",
      "Epoch 15/50\n",
      "99/99 [==============================] - 20s 199ms/step - loss: 0.0184 - val_loss: 0.0433\n",
      "Epoch 16/50\n",
      "99/99 [==============================] - 19s 195ms/step - loss: 0.0188 - val_loss: 0.0434\n",
      "Epoch 17/50\n",
      "99/99 [==============================] - 19s 195ms/step - loss: 0.0178 - val_loss: 0.0451\n",
      "Epoch 18/50\n",
      "99/99 [==============================] - 19s 195ms/step - loss: 0.0180 - val_loss: 0.0459\n",
      "Epoch 19/50\n",
      "99/99 [==============================] - 19s 194ms/step - loss: 0.0177 - val_loss: 0.0411\n",
      "Epoch 20/50\n",
      "99/99 [==============================] - 19s 194ms/step - loss: 0.0176 - val_loss: 0.0417\n",
      "Epoch 21/50\n",
      "99/99 [==============================] - 19s 194ms/step - loss: 0.0174 - val_loss: 0.0407\n",
      "Epoch 22/50\n",
      "99/99 [==============================] - 19s 194ms/step - loss: 0.0172 - val_loss: 0.0415\n",
      "Epoch 23/50\n",
      "99/99 [==============================] - 19s 195ms/step - loss: 0.0170 - val_loss: 0.0410\n",
      "Epoch 24/50\n",
      "99/99 [==============================] - 19s 195ms/step - loss: 0.0169 - val_loss: 0.0415\n",
      "Epoch 25/50\n",
      "99/99 [==============================] - 20s 199ms/step - loss: 0.0169 - val_loss: 0.0366\n",
      "Epoch 26/50\n",
      "99/99 [==============================] - 21s 208ms/step - loss: 0.0170 - val_loss: 0.0384\n",
      "Epoch 27/50\n",
      "99/99 [==============================] - 20s 202ms/step - loss: 0.0174 - val_loss: 0.0344\n",
      "Epoch 28/50\n",
      "99/99 [==============================] - 20s 204ms/step - loss: 0.0168 - val_loss: 0.0378\n",
      "Epoch 29/50\n",
      "99/99 [==============================] - 21s 208ms/step - loss: 0.0166 - val_loss: 0.0375\n",
      "Epoch 30/50\n",
      "99/99 [==============================] - 20s 206ms/step - loss: 0.0170 - val_loss: 0.0267\n",
      "Epoch 31/50\n",
      "99/99 [==============================] - 21s 210ms/step - loss: 0.0166 - val_loss: 0.0369\n",
      "Epoch 32/50\n",
      "99/99 [==============================] - 20s 205ms/step - loss: 0.0178 - val_loss: 0.0357\n",
      "Epoch 33/50\n",
      "99/99 [==============================] - 20s 199ms/step - loss: 0.0163 - val_loss: 0.0328\n",
      "Epoch 34/50\n",
      "99/99 [==============================] - 20s 200ms/step - loss: 0.0166 - val_loss: 0.0367\n",
      "Epoch 35/50\n",
      "99/99 [==============================] - 21s 208ms/step - loss: 0.0161 - val_loss: 0.0350\n",
      "Epoch 36/50\n",
      "99/99 [==============================] - 20s 200ms/step - loss: 0.0161 - val_loss: 0.0342\n",
      "Epoch 37/50\n",
      "99/99 [==============================] - 21s 207ms/step - loss: 0.0161 - val_loss: 0.0346\n",
      "Epoch 38/50\n",
      "99/99 [==============================] - 21s 210ms/step - loss: 0.0160 - val_loss: 0.0347\n",
      "Epoch 39/50\n",
      "99/99 [==============================] - 20s 197ms/step - loss: 0.0159 - val_loss: 0.0374\n",
      "Epoch 40/50\n",
      "99/99 [==============================] - 20s 201ms/step - loss: 0.0159 - val_loss: 0.0346\n",
      "Epoch 41/50\n",
      "99/99 [==============================] - 20s 205ms/step - loss: 0.0160 - val_loss: 0.0334\n",
      "Epoch 42/50\n",
      "99/99 [==============================] - 21s 215ms/step - loss: 0.0158 - val_loss: 0.0356\n",
      "Epoch 43/50\n",
      "99/99 [==============================] - 20s 200ms/step - loss: 0.0158 - val_loss: 0.0354\n",
      "Epoch 44/50\n",
      "99/99 [==============================] - 20s 201ms/step - loss: 0.0159 - val_loss: 0.0331\n",
      "Epoch 45/50\n",
      "99/99 [==============================] - 20s 202ms/step - loss: 0.0161 - val_loss: 0.0335\n",
      "Epoch 46/50\n",
      "99/99 [==============================] - 19s 196ms/step - loss: 0.0156 - val_loss: 0.0334\n",
      "Epoch 47/50\n",
      "99/99 [==============================] - 19s 197ms/step - loss: 0.0155 - val_loss: 0.0330\n",
      "Epoch 48/50\n",
      "99/99 [==============================] - 19s 194ms/step - loss: 0.0151 - val_loss: 0.0320\n",
      "Epoch 49/50\n",
      "99/99 [==============================] - 20s 199ms/step - loss: 0.0151 - val_loss: 0.0316\n",
      "Epoch 50/50\n",
      "99/99 [==============================] - 20s 198ms/step - loss: 0.0152 - val_loss: 0.0321\n"
     ]
    }
   ],
   "source": [
    "history = model.fit(x_train, x_train, batch_size=4, shuffle=True, epochs=50\n",
    "                    , validation_data=(x_test, x_test))"
   ]
  },
  {
   "cell_type": "code",
   "execution_count": 51,
   "id": "da7bee95",
   "metadata": {},
   "outputs": [],
   "source": [
    "x_pred = model.predict(x_test)"
   ]
  },
  {
   "cell_type": "code",
   "execution_count": 52,
   "id": "45235f40",
   "metadata": {},
   "outputs": [
    {
     "data": {
      "text/plain": [
       "(64, 64, 1)"
      ]
     },
     "execution_count": 52,
     "metadata": {},
     "output_type": "execute_result"
    }
   ],
   "source": [
    "x_pred[0].shape"
   ]
  },
  {
   "cell_type": "code",
   "execution_count": 53,
   "id": "09371dfa",
   "metadata": {},
   "outputs": [],
   "source": [
    "import matplotlib.pyplot as plt"
   ]
  },
  {
   "cell_type": "code",
   "execution_count": 54,
   "id": "82a02e74",
   "metadata": {},
   "outputs": [
    {
     "data": {
      "text/plain": [
       "<matplotlib.image.AxesImage at 0x7f5322d27b10>"
      ]
     },
     "execution_count": 54,
     "metadata": {},
     "output_type": "execute_result"
    },
    {
     "data": {
      "image/png": "[encoded data removed]",
      "text/plain": [
       "<Figure size 432x288 with 1 Axes>"
      ]
     },
     "metadata": {
      "needs_background": "light"
     },
     "output_type": "display_data"
    }
   ],
   "source": [
    "plt.imshow(x_test[1], cmap=\"gray\")"
   ]
  },
  {
   "cell_type": "code",
   "execution_count": 55,
   "id": "f5279fce",
   "metadata": {},
   "outputs": [
    {
     "data": {
      "text/plain": [
       "<matplotlib.image.AxesImage at 0x7f5322d498d0>"
      ]
     },
     "execution_count": 55,
     "metadata": {},
     "output_type": "execute_result"
    },
    {
     "data": {
      "image/png": "[encoded data removed]",
      "text/plain": [
       "<Figure size 432x288 with 1 Axes>"
      ]
     },
     "metadata": {
      "needs_background": "light"
     },
     "output_type": "display_data"
    }
   ],
   "source": [
    "plt.imshow(x_pred[1], cmap=\"gray\")"
   ]
  },
  {
   "cell_type": "code",
   "execution_count": null,
   "id": "b905acee",
   "metadata": {},
   "outputs": [],
   "source": []
  }
 ],
 "metadata": {
  "kernelspec": {
   "display_name": "Python 3",
   "language": "python",
   "name": "python3"
  },
  "language_info": {
   "codemirror_mode": {
    "name": "ipython",
    "version": 3
   },
   "file_extension": ".py",
   "mimetype": "text/x-python",
   "name": "python",
   "nbconvert_exporter": "python",
   "pygments_lexer": "ipython3",
   "version": "3.7.11"
  }
 },
 "nbformat": 4,
 "nbformat_minor": 5
}
